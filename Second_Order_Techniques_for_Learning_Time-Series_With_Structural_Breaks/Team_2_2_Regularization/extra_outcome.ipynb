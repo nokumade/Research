{
  "nbformat": 4,
  "nbformat_minor": 0,
  "metadata": {
    "colab": {
      "provenance": []
    },
    "kernelspec": {
      "name": "python3",
      "display_name": "Python 3"
    },
    "language_info": {
      "name": "python"
    }
  },
  "cells": [
    {
      "cell_type": "code",
      "source": [
        "# !pip install pmdarima"
      ],
      "metadata": {
        "id": "Uka5MQLDogI8"
      },
      "execution_count": null,
      "outputs": []
    },
    {
      "cell_type": "code",
      "source": [
        "import pandas as pd\n",
        "import numpy as np\n",
        "from pmdarima import auto_arima\n",
        "from sklearn.metrics import mean_squared_error\n",
        "import matplotlib.pyplot as plt\n",
        "\n",
        "df_oil = pd.read_csv(\"BrentOilPrices.csv\");\n",
        "df_oil['Date'] = pd.to_datetime(df_oil['Date'])\n",
        "df_oil.set_index('Date', inplace=True)\n",
        "df_oil = df_oil['2008-09' : '2019-09']\n",
        "df_oil.reset_index(drop=True, inplace=True); df_oil"
      ],
      "metadata": {
        "colab": {
          "base_uri": "https://localhost:8080/",
          "height": 419
        },
        "id": "U1ePXuxBpi2J",
        "outputId": "fd94296b-4192-4325-86f4-4879143d141e"
      },
      "execution_count": null,
      "outputs": [
        {
          "output_type": "execute_result",
          "data": {
            "text/plain": [
              "       Price\n",
              "0     104.94\n",
              "1     103.88\n",
              "2     103.41\n",
              "3     102.51\n",
              "4     101.08\n",
              "...      ...\n",
              "2797   64.13\n",
              "2798   62.41\n",
              "2799   62.08\n",
              "2800   62.48\n",
              "2801   60.99\n",
              "\n",
              "[2802 rows x 1 columns]"
            ],
            "text/html": [
              "\n",
              "  <div id=\"df-cf7983c1-136f-4513-8d09-c25696da3be4\" class=\"colab-df-container\">\n",
              "    <div>\n",
              "<style scoped>\n",
              "    .dataframe tbody tr th:only-of-type {\n",
              "        vertical-align: middle;\n",
              "    }\n",
              "\n",
              "    .dataframe tbody tr th {\n",
              "        vertical-align: top;\n",
              "    }\n",
              "\n",
              "    .dataframe thead th {\n",
              "        text-align: right;\n",
              "    }\n",
              "</style>\n",
              "<table border=\"1\" class=\"dataframe\">\n",
              "  <thead>\n",
              "    <tr style=\"text-align: right;\">\n",
              "      <th></th>\n",
              "      <th>Price</th>\n",
              "    </tr>\n",
              "  </thead>\n",
              "  <tbody>\n",
              "    <tr>\n",
              "      <th>0</th>\n",
              "      <td>104.94</td>\n",
              "    </tr>\n",
              "    <tr>\n",
              "      <th>1</th>\n",
              "      <td>103.88</td>\n",
              "    </tr>\n",
              "    <tr>\n",
              "      <th>2</th>\n",
              "      <td>103.41</td>\n",
              "    </tr>\n",
              "    <tr>\n",
              "      <th>3</th>\n",
              "      <td>102.51</td>\n",
              "    </tr>\n",
              "    <tr>\n",
              "      <th>4</th>\n",
              "      <td>101.08</td>\n",
              "    </tr>\n",
              "    <tr>\n",
              "      <th>...</th>\n",
              "      <td>...</td>\n",
              "    </tr>\n",
              "    <tr>\n",
              "      <th>2797</th>\n",
              "      <td>64.13</td>\n",
              "    </tr>\n",
              "    <tr>\n",
              "      <th>2798</th>\n",
              "      <td>62.41</td>\n",
              "    </tr>\n",
              "    <tr>\n",
              "      <th>2799</th>\n",
              "      <td>62.08</td>\n",
              "    </tr>\n",
              "    <tr>\n",
              "      <th>2800</th>\n",
              "      <td>62.48</td>\n",
              "    </tr>\n",
              "    <tr>\n",
              "      <th>2801</th>\n",
              "      <td>60.99</td>\n",
              "    </tr>\n",
              "  </tbody>\n",
              "</table>\n",
              "<p>2802 rows × 1 columns</p>\n",
              "</div>\n",
              "    <div class=\"colab-df-buttons\">\n",
              "\n",
              "  <div class=\"colab-df-container\">\n",
              "    <button class=\"colab-df-convert\" onclick=\"convertToInteractive('df-cf7983c1-136f-4513-8d09-c25696da3be4')\"\n",
              "            title=\"Convert this dataframe to an interactive table.\"\n",
              "            style=\"display:none;\">\n",
              "\n",
              "  <svg xmlns=\"http://www.w3.org/2000/svg\" height=\"24px\" viewBox=\"0 -960 960 960\">\n",
              "    <path d=\"M120-120v-720h720v720H120Zm60-500h600v-160H180v160Zm220 220h160v-160H400v160Zm0 220h160v-160H400v160ZM180-400h160v-160H180v160Zm440 0h160v-160H620v160ZM180-180h160v-160H180v160Zm440 0h160v-160H620v160Z\"/>\n",
              "  </svg>\n",
              "    </button>\n",
              "\n",
              "  <style>\n",
              "    .colab-df-container {\n",
              "      display:flex;\n",
              "      gap: 12px;\n",
              "    }\n",
              "\n",
              "    .colab-df-convert {\n",
              "      background-color: #E8F0FE;\n",
              "      border: none;\n",
              "      border-radius: 50%;\n",
              "      cursor: pointer;\n",
              "      display: none;\n",
              "      fill: #1967D2;\n",
              "      height: 32px;\n",
              "      padding: 0 0 0 0;\n",
              "      width: 32px;\n",
              "    }\n",
              "\n",
              "    .colab-df-convert:hover {\n",
              "      background-color: #E2EBFA;\n",
              "      box-shadow: 0px 1px 2px rgba(60, 64, 67, 0.3), 0px 1px 3px 1px rgba(60, 64, 67, 0.15);\n",
              "      fill: #174EA6;\n",
              "    }\n",
              "\n",
              "    .colab-df-buttons div {\n",
              "      margin-bottom: 4px;\n",
              "    }\n",
              "\n",
              "    [theme=dark] .colab-df-convert {\n",
              "      background-color: #3B4455;\n",
              "      fill: #D2E3FC;\n",
              "    }\n",
              "\n",
              "    [theme=dark] .colab-df-convert:hover {\n",
              "      background-color: #434B5C;\n",
              "      box-shadow: 0px 1px 3px 1px rgba(0, 0, 0, 0.15);\n",
              "      filter: drop-shadow(0px 1px 2px rgba(0, 0, 0, 0.3));\n",
              "      fill: #FFFFFF;\n",
              "    }\n",
              "  </style>\n",
              "\n",
              "    <script>\n",
              "      const buttonEl =\n",
              "        document.querySelector('#df-cf7983c1-136f-4513-8d09-c25696da3be4 button.colab-df-convert');\n",
              "      buttonEl.style.display =\n",
              "        google.colab.kernel.accessAllowed ? 'block' : 'none';\n",
              "\n",
              "      async function convertToInteractive(key) {\n",
              "        const element = document.querySelector('#df-cf7983c1-136f-4513-8d09-c25696da3be4');\n",
              "        const dataTable =\n",
              "          await google.colab.kernel.invokeFunction('convertToInteractive',\n",
              "                                                    [key], {});\n",
              "        if (!dataTable) return;\n",
              "\n",
              "        const docLinkHtml = 'Like what you see? Visit the ' +\n",
              "          '<a target=\"_blank\" href=https://colab.research.google.com/notebooks/data_table.ipynb>data table notebook</a>'\n",
              "          + ' to learn more about interactive tables.';\n",
              "        element.innerHTML = '';\n",
              "        dataTable['output_type'] = 'display_data';\n",
              "        await google.colab.output.renderOutput(dataTable, element);\n",
              "        const docLink = document.createElement('div');\n",
              "        docLink.innerHTML = docLinkHtml;\n",
              "        element.appendChild(docLink);\n",
              "      }\n",
              "    </script>\n",
              "  </div>\n",
              "\n",
              "\n",
              "<div id=\"df-4245b1ca-0871-41e0-95c6-2bb6dd77902d\">\n",
              "  <button class=\"colab-df-quickchart\" onclick=\"quickchart('df-4245b1ca-0871-41e0-95c6-2bb6dd77902d')\"\n",
              "            title=\"Suggest charts.\"\n",
              "            style=\"display:none;\">\n",
              "\n",
              "<svg xmlns=\"http://www.w3.org/2000/svg\" height=\"24px\"viewBox=\"0 0 24 24\"\n",
              "     width=\"24px\">\n",
              "    <g>\n",
              "        <path d=\"M19 3H5c-1.1 0-2 .9-2 2v14c0 1.1.9 2 2 2h14c1.1 0 2-.9 2-2V5c0-1.1-.9-2-2-2zM9 17H7v-7h2v7zm4 0h-2V7h2v10zm4 0h-2v-4h2v4z\"/>\n",
              "    </g>\n",
              "</svg>\n",
              "  </button>\n",
              "\n",
              "<style>\n",
              "  .colab-df-quickchart {\n",
              "      --bg-color: #E8F0FE;\n",
              "      --fill-color: #1967D2;\n",
              "      --hover-bg-color: #E2EBFA;\n",
              "      --hover-fill-color: #174EA6;\n",
              "      --disabled-fill-color: #AAA;\n",
              "      --disabled-bg-color: #DDD;\n",
              "  }\n",
              "\n",
              "  [theme=dark] .colab-df-quickchart {\n",
              "      --bg-color: #3B4455;\n",
              "      --fill-color: #D2E3FC;\n",
              "      --hover-bg-color: #434B5C;\n",
              "      --hover-fill-color: #FFFFFF;\n",
              "      --disabled-bg-color: #3B4455;\n",
              "      --disabled-fill-color: #666;\n",
              "  }\n",
              "\n",
              "  .colab-df-quickchart {\n",
              "    background-color: var(--bg-color);\n",
              "    border: none;\n",
              "    border-radius: 50%;\n",
              "    cursor: pointer;\n",
              "    display: none;\n",
              "    fill: var(--fill-color);\n",
              "    height: 32px;\n",
              "    padding: 0;\n",
              "    width: 32px;\n",
              "  }\n",
              "\n",
              "  .colab-df-quickchart:hover {\n",
              "    background-color: var(--hover-bg-color);\n",
              "    box-shadow: 0 1px 2px rgba(60, 64, 67, 0.3), 0 1px 3px 1px rgba(60, 64, 67, 0.15);\n",
              "    fill: var(--button-hover-fill-color);\n",
              "  }\n",
              "\n",
              "  .colab-df-quickchart-complete:disabled,\n",
              "  .colab-df-quickchart-complete:disabled:hover {\n",
              "    background-color: var(--disabled-bg-color);\n",
              "    fill: var(--disabled-fill-color);\n",
              "    box-shadow: none;\n",
              "  }\n",
              "\n",
              "  .colab-df-spinner {\n",
              "    border: 2px solid var(--fill-color);\n",
              "    border-color: transparent;\n",
              "    border-bottom-color: var(--fill-color);\n",
              "    animation:\n",
              "      spin 1s steps(1) infinite;\n",
              "  }\n",
              "\n",
              "  @keyframes spin {\n",
              "    0% {\n",
              "      border-color: transparent;\n",
              "      border-bottom-color: var(--fill-color);\n",
              "      border-left-color: var(--fill-color);\n",
              "    }\n",
              "    20% {\n",
              "      border-color: transparent;\n",
              "      border-left-color: var(--fill-color);\n",
              "      border-top-color: var(--fill-color);\n",
              "    }\n",
              "    30% {\n",
              "      border-color: transparent;\n",
              "      border-left-color: var(--fill-color);\n",
              "      border-top-color: var(--fill-color);\n",
              "      border-right-color: var(--fill-color);\n",
              "    }\n",
              "    40% {\n",
              "      border-color: transparent;\n",
              "      border-right-color: var(--fill-color);\n",
              "      border-top-color: var(--fill-color);\n",
              "    }\n",
              "    60% {\n",
              "      border-color: transparent;\n",
              "      border-right-color: var(--fill-color);\n",
              "    }\n",
              "    80% {\n",
              "      border-color: transparent;\n",
              "      border-right-color: var(--fill-color);\n",
              "      border-bottom-color: var(--fill-color);\n",
              "    }\n",
              "    90% {\n",
              "      border-color: transparent;\n",
              "      border-bottom-color: var(--fill-color);\n",
              "    }\n",
              "  }\n",
              "</style>\n",
              "\n",
              "  <script>\n",
              "    async function quickchart(key) {\n",
              "      const quickchartButtonEl =\n",
              "        document.querySelector('#' + key + ' button');\n",
              "      quickchartButtonEl.disabled = true;  // To prevent multiple clicks.\n",
              "      quickchartButtonEl.classList.add('colab-df-spinner');\n",
              "      try {\n",
              "        const charts = await google.colab.kernel.invokeFunction(\n",
              "            'suggestCharts', [key], {});\n",
              "      } catch (error) {\n",
              "        console.error('Error during call to suggestCharts:', error);\n",
              "      }\n",
              "      quickchartButtonEl.classList.remove('colab-df-spinner');\n",
              "      quickchartButtonEl.classList.add('colab-df-quickchart-complete');\n",
              "    }\n",
              "    (() => {\n",
              "      let quickchartButtonEl =\n",
              "        document.querySelector('#df-4245b1ca-0871-41e0-95c6-2bb6dd77902d button');\n",
              "      quickchartButtonEl.style.display =\n",
              "        google.colab.kernel.accessAllowed ? 'block' : 'none';\n",
              "    })();\n",
              "  </script>\n",
              "</div>\n",
              "    </div>\n",
              "  </div>\n"
            ]
          },
          "metadata": {},
          "execution_count": 5
        }
      ]
    },
    {
      "cell_type": "code",
      "source": [
        "%%time\n",
        "# Wall time: 2min 29s\n",
        "n_iter = 20\n",
        "all_rmse = []\n",
        "forecasts = []\n",
        "tests = []\n",
        "# Splitting the data into training and testing sets\n",
        "train = df_oil.iloc[:-n_iter]\n",
        "test = df_oil.iloc[-n_iter]\n",
        "\n",
        "# Fitting the auto ARIMA model\n",
        "model = auto_arima(train, trace=True, error_action='ignore', suppress_warnings=True)\n",
        "\n",
        "# Forecasting the next day\n",
        "forecast = model.predict(n_periods=1)\n",
        "forecasts.append(forecast)\n",
        "tests.append(test)\n",
        "\n",
        "# Calculating RMSE\n",
        "rmse = np.sqrt(mean_squared_error(test, forecast))\n",
        "print(f\"Root Mean Squared Error: {rmse}\")\n",
        "\n",
        "# Iteratively predicting the next day and updating the model\n",
        "for i in range(n_iter - 1):  # Adjust the number of iterations as needed\n",
        "    # Zasunul\n",
        "    train = train.append(test)\n",
        "    # Zafittil\n",
        "    model = auto_arima(train, trace=True, error_action='ignore', suppress_warnings=True)\n",
        "    # Predskazal\n",
        "    forecast = model.predict(n_periods=1)\n",
        "    # Vytashil\n",
        "    test = df_oil.iloc[-n_iter + i + 1]\n",
        "    # Sravnivayu\n",
        "    rmse = np.sqrt(mean_squared_error(test, forecast))\n",
        "    forecasts.append(forecast)\n",
        "    tests.append(test)\n",
        "    # all_rmse.append(rmse)\n",
        "    print(f\"Iteration {i + 1} - Root Mean Squared Error: {rmse}\")\n",
        "\n",
        "print(\"ARIMA RMSE\", np.sqrt(mean_squared_error(tests, forecasts)))\n",
        "ARIMA_RMSE = np.sqrt(mean_squared_error(tests, forecasts))\n",
        "# print(all_rmse.mean())"
      ],
      "metadata": {
        "id": "gAf53ycgoHe5",
        "colab": {
          "base_uri": "https://localhost:8080/"
        },
        "outputId": "74f80dc2-79fa-49e9-baa8-c1b0869798a4"
      },
      "execution_count": null,
      "outputs": [
        {
          "output_type": "stream",
          "name": "stdout",
          "text": [
            "Performing stepwise search to minimize aic\n",
            " ARIMA(2,1,2)(0,0,0)[0] intercept   : AIC=9935.987, Time=3.58 sec\n",
            " ARIMA(0,1,0)(0,0,0)[0] intercept   : AIC=9931.109, Time=0.14 sec\n",
            " ARIMA(1,1,0)(0,0,0)[0] intercept   : AIC=9931.079, Time=0.33 sec\n",
            " ARIMA(0,1,1)(0,0,0)[0] intercept   : AIC=9931.150, Time=0.92 sec\n",
            " ARIMA(0,1,0)(0,0,0)[0]             : AIC=9929.481, Time=0.17 sec\n",
            " ARIMA(1,1,1)(0,0,0)[0] intercept   : AIC=9931.993, Time=2.80 sec\n",
            "\n",
            "Best model:  ARIMA(0,1,0)(0,0,0)[0]          \n",
            "Total fit time: 8.005 seconds\n",
            "Root Mean Squared Error: 0.6199999999999974\n",
            "Performing stepwise search to minimize aic\n"
          ]
        },
        {
          "output_type": "stream",
          "name": "stderr",
          "text": [
            "<timed exec>:24: FutureWarning: The frame.append method is deprecated and will be removed from pandas in a future version. Use pandas.concat instead.\n"
          ]
        },
        {
          "output_type": "stream",
          "name": "stdout",
          "text": [
            " ARIMA(2,1,2)(0,0,0)[0] intercept   : AIC=9938.705, Time=4.49 sec\n",
            " ARIMA(0,1,0)(0,0,0)[0] intercept   : AIC=9933.853, Time=0.11 sec\n",
            " ARIMA(1,1,0)(0,0,0)[0] intercept   : AIC=9933.787, Time=0.18 sec\n",
            " ARIMA(0,1,1)(0,0,0)[0] intercept   : AIC=9933.859, Time=0.41 sec\n",
            " ARIMA(0,1,0)(0,0,0)[0]             : AIC=9932.235, Time=0.11 sec\n",
            " ARIMA(1,1,1)(0,0,0)[0] intercept   : AIC=9934.711, Time=1.25 sec\n",
            "\n",
            "Best model:  ARIMA(0,1,0)(0,0,0)[0]          \n",
            "Total fit time: 6.571 seconds\n",
            "Iteration 1 - Root Mean Squared Error: 2.75\n",
            "Performing stepwise search to minimize aic\n"
          ]
        },
        {
          "output_type": "stream",
          "name": "stderr",
          "text": [
            "<timed exec>:24: FutureWarning: The frame.append method is deprecated and will be removed from pandas in a future version. Use pandas.concat instead.\n"
          ]
        },
        {
          "output_type": "stream",
          "name": "stdout",
          "text": [
            " ARIMA(2,1,2)(0,0,0)[0] intercept   : AIC=9945.081, Time=2.68 sec\n",
            " ARIMA(0,1,0)(0,0,0)[0] intercept   : AIC=9940.104, Time=0.11 sec\n",
            " ARIMA(1,1,0)(0,0,0)[0] intercept   : AIC=9940.083, Time=0.19 sec\n",
            " ARIMA(0,1,1)(0,0,0)[0] intercept   : AIC=9940.149, Time=0.39 sec\n",
            " ARIMA(0,1,0)(0,0,0)[0]             : AIC=9938.442, Time=0.10 sec\n",
            " ARIMA(1,1,1)(0,0,0)[0] intercept   : AIC=9941.080, Time=1.32 sec\n",
            "\n",
            "Best model:  ARIMA(0,1,0)(0,0,0)[0]          \n",
            "Total fit time: 4.813 seconds\n",
            "Iteration 2 - Root Mean Squared Error: 2.020000000000003\n",
            "Performing stepwise search to minimize aic\n"
          ]
        },
        {
          "output_type": "stream",
          "name": "stderr",
          "text": [
            "<timed exec>:24: FutureWarning: The frame.append method is deprecated and will be removed from pandas in a future version. Use pandas.concat instead.\n"
          ]
        },
        {
          "output_type": "stream",
          "name": "stdout",
          "text": [
            " ARIMA(2,1,2)(0,0,0)[0] intercept   : AIC=9949.555, Time=2.37 sec\n",
            " ARIMA(0,1,0)(0,0,0)[0] intercept   : AIC=9944.666, Time=0.10 sec\n",
            " ARIMA(1,1,0)(0,0,0)[0] intercept   : AIC=9944.500, Time=0.18 sec\n",
            " ARIMA(0,1,1)(0,0,0)[0] intercept   : AIC=9944.570, Time=0.53 sec\n",
            " ARIMA(0,1,0)(0,0,0)[0]             : AIC=9942.974, Time=0.15 sec\n",
            " ARIMA(1,1,1)(0,0,0)[0] intercept   : AIC=9945.555, Time=2.97 sec\n",
            "\n",
            "Best model:  ARIMA(0,1,0)(0,0,0)[0]          \n",
            "Total fit time: 6.317 seconds\n",
            "Iteration 3 - Root Mean Squared Error: 1.4200000000000017\n",
            "Performing stepwise search to minimize aic\n"
          ]
        },
        {
          "output_type": "stream",
          "name": "stderr",
          "text": [
            "<timed exec>:24: FutureWarning: The frame.append method is deprecated and will be removed from pandas in a future version. Use pandas.concat instead.\n"
          ]
        },
        {
          "output_type": "stream",
          "name": "stdout",
          "text": [
            " ARIMA(2,1,2)(0,0,0)[0] intercept   : AIC=9953.184, Time=6.26 sec\n",
            " ARIMA(0,1,0)(0,0,0)[0] intercept   : AIC=9948.185, Time=0.17 sec\n",
            " ARIMA(1,1,0)(0,0,0)[0] intercept   : AIC=9948.096, Time=0.66 sec\n",
            " ARIMA(0,1,1)(0,0,0)[0] intercept   : AIC=9948.161, Time=0.88 sec\n",
            " ARIMA(0,1,0)(0,0,0)[0]             : AIC=9946.514, Time=0.26 sec\n",
            " ARIMA(1,1,1)(0,0,0)[0] intercept   : AIC=9949.185, Time=1.47 sec\n",
            "\n",
            "Best model:  ARIMA(0,1,0)(0,0,0)[0]          \n",
            "Total fit time: 9.742 seconds\n",
            "Iteration 4 - Root Mean Squared Error: 2.710000000000001\n",
            "Performing stepwise search to minimize aic\n"
          ]
        },
        {
          "output_type": "stream",
          "name": "stderr",
          "text": [
            "<timed exec>:24: FutureWarning: The frame.append method is deprecated and will be removed from pandas in a future version. Use pandas.concat instead.\n"
          ]
        },
        {
          "output_type": "stream",
          "name": "stdout",
          "text": [
            " ARIMA(2,1,2)(0,0,0)[0] intercept   : AIC=9959.293, Time=5.00 sec\n",
            " ARIMA(0,1,0)(0,0,0)[0] intercept   : AIC=9954.323, Time=0.11 sec\n",
            " ARIMA(1,1,0)(0,0,0)[0] intercept   : AIC=9954.337, Time=0.19 sec\n",
            " ARIMA(0,1,1)(0,0,0)[0] intercept   : AIC=9954.402, Time=0.43 sec\n",
            " ARIMA(0,1,0)(0,0,0)[0]             : AIC=9952.612, Time=0.10 sec\n",
            " ARIMA(1,1,1)(0,0,0)[0] intercept   : AIC=9955.294, Time=1.33 sec\n",
            "\n",
            "Best model:  ARIMA(0,1,0)(0,0,0)[0]          \n",
            "Total fit time: 7.191 seconds\n",
            "Iteration 5 - Root Mean Squared Error: 0.6799999999999997\n",
            "Performing stepwise search to minimize aic\n"
          ]
        },
        {
          "output_type": "stream",
          "name": "stderr",
          "text": [
            "<timed exec>:24: FutureWarning: The frame.append method is deprecated and will be removed from pandas in a future version. Use pandas.concat instead.\n"
          ]
        },
        {
          "output_type": "stream",
          "name": "stdout",
          "text": [
            " ARIMA(2,1,2)(0,0,0)[0] intercept   : AIC=9962.046, Time=3.36 sec\n",
            " ARIMA(0,1,0)(0,0,0)[0] intercept   : AIC=9957.126, Time=0.10 sec\n",
            " ARIMA(1,1,0)(0,0,0)[0] intercept   : AIC=9957.093, Time=0.18 sec\n",
            " ARIMA(0,1,1)(0,0,0)[0] intercept   : AIC=9957.159, Time=0.40 sec\n",
            " ARIMA(0,1,0)(0,0,0)[0]             : AIC=9955.406, Time=0.10 sec\n",
            " ARIMA(1,1,1)(0,0,0)[0] intercept   : AIC=9958.047, Time=1.33 sec\n",
            "\n",
            "Best model:  ARIMA(0,1,0)(0,0,0)[0]          \n",
            "Total fit time: 5.479 seconds\n",
            "Iteration 6 - Root Mean Squared Error: 1.6499999999999986\n",
            "Performing stepwise search to minimize aic\n"
          ]
        },
        {
          "output_type": "stream",
          "name": "stderr",
          "text": [
            "<timed exec>:24: FutureWarning: The frame.append method is deprecated and will be removed from pandas in a future version. Use pandas.concat instead.\n"
          ]
        },
        {
          "output_type": "stream",
          "name": "stdout",
          "text": [
            " ARIMA(2,1,2)(0,0,0)[0] intercept   : AIC=9964.033, Time=5.43 sec\n",
            " ARIMA(0,1,0)(0,0,0)[0] intercept   : AIC=9960.982, Time=0.11 sec\n",
            " ARIMA(1,1,0)(0,0,0)[0] intercept   : AIC=9960.978, Time=0.18 sec\n",
            " ARIMA(0,1,1)(0,0,0)[0] intercept   : AIC=9961.040, Time=0.39 sec\n",
            " ARIMA(0,1,0)(0,0,0)[0]             : AIC=9959.285, Time=0.10 sec\n",
            " ARIMA(1,1,1)(0,0,0)[0] intercept   : AIC=9962.007, Time=1.34 sec\n",
            "\n",
            "Best model:  ARIMA(0,1,0)(0,0,0)[0]          \n",
            "Total fit time: 7.560 seconds\n",
            "Iteration 7 - Root Mean Squared Error: 2.260000000000012\n",
            "Performing stepwise search to minimize aic\n"
          ]
        },
        {
          "output_type": "stream",
          "name": "stderr",
          "text": [
            "<timed exec>:24: FutureWarning: The frame.append method is deprecated and will be removed from pandas in a future version. Use pandas.concat instead.\n"
          ]
        },
        {
          "output_type": "stream",
          "name": "stdout",
          "text": [
            " ARIMA(2,1,2)(0,0,0)[0] intercept   : AIC=9970.990, Time=1.65 sec\n",
            " ARIMA(0,1,0)(0,0,0)[0] intercept   : AIC=9965.972, Time=0.11 sec\n",
            " ARIMA(1,1,0)(0,0,0)[0] intercept   : AIC=9965.875, Time=0.19 sec\n",
            " ARIMA(0,1,1)(0,0,0)[0] intercept   : AIC=9965.939, Time=0.44 sec\n",
            " ARIMA(0,1,0)(0,0,0)[0]             : AIC=9964.308, Time=0.11 sec\n",
            " ARIMA(1,1,1)(0,0,0)[0] intercept   : AIC=9966.990, Time=1.17 sec\n",
            "\n",
            "Best model:  ARIMA(0,1,0)(0,0,0)[0]          \n",
            "Total fit time: 3.679 seconds\n",
            "Iteration 8 - Root Mean Squared Error: 0.490000000000002\n",
            "Performing stepwise search to minimize aic\n"
          ]
        },
        {
          "output_type": "stream",
          "name": "stderr",
          "text": [
            "<timed exec>:24: FutureWarning: The frame.append method is deprecated and will be removed from pandas in a future version. Use pandas.concat instead.\n"
          ]
        },
        {
          "output_type": "stream",
          "name": "stdout",
          "text": [
            " ARIMA(2,1,2)(0,0,0)[0] intercept   : AIC=9973.712, Time=2.97 sec\n",
            " ARIMA(0,1,0)(0,0,0)[0] intercept   : AIC=9968.667, Time=0.17 sec\n",
            " ARIMA(1,1,0)(0,0,0)[0] intercept   : AIC=9968.601, Time=0.35 sec\n",
            " ARIMA(0,1,1)(0,0,0)[0] intercept   : AIC=9968.663, Time=0.88 sec\n",
            " ARIMA(0,1,0)(0,0,0)[0]             : AIC=9966.995, Time=0.16 sec\n",
            " ARIMA(1,1,1)(0,0,0)[0] intercept   : AIC=9969.716, Time=1.71 sec\n",
            "\n",
            "Best model:  ARIMA(0,1,0)(0,0,0)[0]          \n",
            "Total fit time: 6.265 seconds\n",
            "Iteration 9 - Root Mean Squared Error: 7.170000000000002\n",
            "Performing stepwise search to minimize aic\n"
          ]
        },
        {
          "output_type": "stream",
          "name": "stderr",
          "text": [
            "<timed exec>:24: FutureWarning: The frame.append method is deprecated and will be removed from pandas in a future version. Use pandas.concat instead.\n"
          ]
        },
        {
          "output_type": "stream",
          "name": "stdout",
          "text": [
            " ARIMA(2,1,2)(0,0,0)[0] intercept   : AIC=9998.937, Time=3.10 sec\n",
            " ARIMA(0,1,0)(0,0,0)[0] intercept   : AIC=9995.920, Time=0.11 sec\n",
            " ARIMA(1,1,0)(0,0,0)[0] intercept   : AIC=9995.776, Time=0.19 sec\n",
            " ARIMA(0,1,1)(0,0,0)[0] intercept   : AIC=9995.829, Time=0.44 sec\n",
            " ARIMA(0,1,0)(0,0,0)[0]             : AIC=9994.148, Time=0.10 sec\n",
            " ARIMA(1,1,1)(0,0,0)[0] intercept   : AIC=9997.148, Time=1.40 sec\n",
            "\n",
            "Best model:  ARIMA(0,1,0)(0,0,0)[0]          \n",
            "Total fit time: 5.351 seconds\n",
            "Iteration 10 - Root Mean Squared Error: 2.8299999999999983\n",
            "Performing stepwise search to minimize aic\n"
          ]
        },
        {
          "output_type": "stream",
          "name": "stderr",
          "text": [
            "<timed exec>:24: FutureWarning: The frame.append method is deprecated and will be removed from pandas in a future version. Use pandas.concat instead.\n"
          ]
        },
        {
          "output_type": "stream",
          "name": "stdout",
          "text": [
            " ARIMA(2,1,2)(0,0,0)[0] intercept   : AIC=10005.577, Time=3.88 sec\n",
            " ARIMA(0,1,0)(0,0,0)[0] intercept   : AIC=10002.275, Time=0.14 sec\n",
            " ARIMA(1,1,0)(0,0,0)[0] intercept   : AIC=10002.650, Time=0.34 sec\n",
            " ARIMA(0,1,1)(0,0,0)[0] intercept   : AIC=10002.689, Time=0.87 sec\n",
            " ARIMA(0,1,0)(0,0,0)[0]             : AIC=10000.539, Time=0.16 sec\n",
            " ARIMA(1,1,1)(0,0,0)[0] intercept   : AIC=10001.874, Time=2.88 sec\n",
            "\n",
            "Best model:  ARIMA(0,1,0)(0,0,0)[0]          \n",
            "Total fit time: 8.302 seconds\n",
            "Iteration 11 - Root Mean Squared Error: 1.2999999999999972\n",
            "Performing stepwise search to minimize aic\n"
          ]
        },
        {
          "output_type": "stream",
          "name": "stderr",
          "text": [
            "<timed exec>:24: FutureWarning: The frame.append method is deprecated and will be removed from pandas in a future version. Use pandas.concat instead.\n"
          ]
        },
        {
          "output_type": "stream",
          "name": "stdout",
          "text": [
            " ARIMA(2,1,2)(0,0,0)[0] intercept   : AIC=10008.935, Time=2.94 sec\n",
            " ARIMA(0,1,0)(0,0,0)[0] intercept   : AIC=10005.642, Time=0.11 sec\n",
            " ARIMA(1,1,0)(0,0,0)[0] intercept   : AIC=10005.935, Time=0.18 sec\n",
            " ARIMA(0,1,1)(0,0,0)[0] intercept   : AIC=10005.972, Time=0.42 sec\n",
            " ARIMA(0,1,0)(0,0,0)[0]             : AIC=10003.924, Time=0.10 sec\n",
            " ARIMA(1,1,1)(0,0,0)[0] intercept   : AIC=10005.292, Time=2.92 sec\n",
            "\n",
            "Best model:  ARIMA(0,1,0)(0,0,0)[0]          \n",
            "Total fit time: 6.683 seconds\n",
            "Iteration 12 - Root Mean Squared Error: 0.04000000000000625\n",
            "Performing stepwise search to minimize aic\n"
          ]
        },
        {
          "output_type": "stream",
          "name": "stderr",
          "text": [
            "<timed exec>:24: FutureWarning: The frame.append method is deprecated and will be removed from pandas in a future version. Use pandas.concat instead.\n"
          ]
        },
        {
          "output_type": "stream",
          "name": "stdout",
          "text": [
            " ARIMA(2,1,2)(0,0,0)[0] intercept   : AIC=10011.517, Time=4.62 sec\n",
            " ARIMA(0,1,0)(0,0,0)[0] intercept   : AIC=10008.223, Time=0.16 sec\n",
            " ARIMA(1,1,0)(0,0,0)[0] intercept   : AIC=10008.515, Time=0.29 sec\n",
            " ARIMA(0,1,1)(0,0,0)[0] intercept   : AIC=10008.552, Time=0.40 sec\n",
            " ARIMA(0,1,0)(0,0,0)[0]             : AIC=10006.505, Time=0.10 sec\n",
            " ARIMA(1,1,1)(0,0,0)[0] intercept   : AIC=10007.872, Time=2.44 sec\n",
            "\n",
            "Best model:  ARIMA(0,1,0)(0,0,0)[0]          \n",
            "Total fit time: 8.016 seconds\n",
            "Iteration 13 - Root Mean Squared Error: 0.980000000000004\n",
            "Performing stepwise search to minimize aic\n"
          ]
        },
        {
          "output_type": "stream",
          "name": "stderr",
          "text": [
            "<timed exec>:24: FutureWarning: The frame.append method is deprecated and will be removed from pandas in a future version. Use pandas.concat instead.\n"
          ]
        },
        {
          "output_type": "stream",
          "name": "stdout",
          "text": [
            " ARIMA(2,1,2)(0,0,0)[0] intercept   : AIC=10014.565, Time=3.52 sec\n",
            " ARIMA(0,1,0)(0,0,0)[0] intercept   : AIC=10011.274, Time=0.11 sec\n",
            " ARIMA(1,1,0)(0,0,0)[0] intercept   : AIC=10011.567, Time=0.19 sec\n",
            " ARIMA(0,1,1)(0,0,0)[0] intercept   : AIC=10011.602, Time=0.42 sec\n",
            " ARIMA(0,1,0)(0,0,0)[0]             : AIC=10009.543, Time=0.10 sec\n",
            " ARIMA(1,1,1)(0,0,0)[0] intercept   : AIC=10010.899, Time=2.44 sec\n",
            "\n",
            "Best model:  ARIMA(0,1,0)(0,0,0)[0]          \n",
            "Total fit time: 6.801 seconds\n",
            "Iteration 14 - Root Mean Squared Error: 0.5700000000000074\n",
            "Performing stepwise search to minimize aic\n"
          ]
        },
        {
          "output_type": "stream",
          "name": "stderr",
          "text": [
            "<timed exec>:24: FutureWarning: The frame.append method is deprecated and will be removed from pandas in a future version. Use pandas.concat instead.\n"
          ]
        },
        {
          "output_type": "stream",
          "name": "stdout",
          "text": [
            " ARIMA(2,1,2)(0,0,0)[0] intercept   : AIC=10017.323, Time=5.34 sec\n",
            " ARIMA(0,1,0)(0,0,0)[0] intercept   : AIC=10014.002, Time=0.12 sec\n",
            " ARIMA(1,1,0)(0,0,0)[0] intercept   : AIC=10014.307, Time=0.18 sec\n",
            " ARIMA(0,1,1)(0,0,0)[0] intercept   : AIC=10014.342, Time=0.43 sec\n",
            " ARIMA(0,1,0)(0,0,0)[0]             : AIC=10012.278, Time=0.09 sec\n",
            " ARIMA(1,1,1)(0,0,0)[0] intercept   : AIC=10013.644, Time=3.11 sec\n",
            "\n",
            "Best model:  ARIMA(0,1,0)(0,0,0)[0]          \n",
            "Total fit time: 9.294 seconds\n",
            "Iteration 15 - Root Mean Squared Error: 0.5300000000000011\n",
            "Performing stepwise search to minimize aic\n"
          ]
        },
        {
          "output_type": "stream",
          "name": "stderr",
          "text": [
            "<timed exec>:24: FutureWarning: The frame.append method is deprecated and will be removed from pandas in a future version. Use pandas.concat instead.\n"
          ]
        },
        {
          "output_type": "stream",
          "name": "stdout",
          "text": [
            " ARIMA(2,1,2)(0,0,0)[0] intercept   : AIC=10020.028, Time=4.40 sec\n",
            " ARIMA(0,1,0)(0,0,0)[0] intercept   : AIC=10016.708, Time=0.13 sec\n",
            " ARIMA(1,1,0)(0,0,0)[0] intercept   : AIC=10017.006, Time=0.34 sec\n",
            " ARIMA(0,1,1)(0,0,0)[0] intercept   : AIC=10017.041, Time=0.86 sec\n",
            " ARIMA(0,1,0)(0,0,0)[0]             : AIC=10014.992, Time=0.14 sec\n",
            " ARIMA(1,1,1)(0,0,0)[0] intercept   : AIC=10016.362, Time=3.19 sec\n",
            "\n",
            "Best model:  ARIMA(0,1,0)(0,0,0)[0]          \n",
            "Total fit time: 9.091 seconds\n",
            "Iteration 16 - Root Mean Squared Error: 1.7199999999999989\n",
            "Performing stepwise search to minimize aic\n"
          ]
        },
        {
          "output_type": "stream",
          "name": "stderr",
          "text": [
            "<timed exec>:24: FutureWarning: The frame.append method is deprecated and will be removed from pandas in a future version. Use pandas.concat instead.\n"
          ]
        },
        {
          "output_type": "stream",
          "name": "stdout",
          "text": [
            " ARIMA(2,1,2)(0,0,0)[0] intercept   : AIC=10024.050, Time=3.85 sec\n",
            " ARIMA(0,1,0)(0,0,0)[0] intercept   : AIC=10020.672, Time=0.11 sec\n",
            " ARIMA(1,1,0)(0,0,0)[0] intercept   : AIC=10020.950, Time=0.21 sec\n",
            " ARIMA(0,1,1)(0,0,0)[0] intercept   : AIC=10020.986, Time=0.42 sec\n",
            " ARIMA(0,1,0)(0,0,0)[0]             : AIC=10018.980, Time=0.10 sec\n",
            " ARIMA(1,1,1)(0,0,0)[0] intercept   : AIC=10020.359, Time=2.83 sec\n",
            "\n",
            "Best model:  ARIMA(0,1,0)(0,0,0)[0]          \n",
            "Total fit time: 7.534 seconds\n",
            "Iteration 17 - Root Mean Squared Error: 0.3299999999999983\n",
            "Performing stepwise search to minimize aic\n"
          ]
        },
        {
          "output_type": "stream",
          "name": "stderr",
          "text": [
            "<timed exec>:24: FutureWarning: The frame.append method is deprecated and will be removed from pandas in a future version. Use pandas.concat instead.\n"
          ]
        },
        {
          "output_type": "stream",
          "name": "stdout",
          "text": [
            " ARIMA(2,1,2)(0,0,0)[0] intercept   : AIC=10026.669, Time=9.28 sec\n",
            " ARIMA(0,1,0)(0,0,0)[0] intercept   : AIC=10023.299, Time=0.11 sec\n",
            " ARIMA(1,1,0)(0,0,0)[0] intercept   : AIC=10023.564, Time=0.19 sec\n",
            " ARIMA(0,1,1)(0,0,0)[0] intercept   : AIC=10023.601, Time=0.41 sec\n",
            " ARIMA(0,1,0)(0,0,0)[0]             : AIC=10021.612, Time=0.12 sec\n",
            " ARIMA(1,1,1)(0,0,0)[0] intercept   : AIC=10022.985, Time=2.98 sec\n",
            "\n",
            "Best model:  ARIMA(0,1,0)(0,0,0)[0]          \n",
            "Total fit time: 13.097 seconds\n",
            "Iteration 18 - Root Mean Squared Error: 0.3999999999999986\n",
            "Performing stepwise search to minimize aic\n"
          ]
        },
        {
          "output_type": "stream",
          "name": "stderr",
          "text": [
            "<timed exec>:24: FutureWarning: The frame.append method is deprecated and will be removed from pandas in a future version. Use pandas.concat instead.\n"
          ]
        },
        {
          "output_type": "stream",
          "name": "stdout",
          "text": [
            " ARIMA(2,1,2)(0,0,0)[0] intercept   : AIC=10029.323, Time=5.45 sec\n",
            " ARIMA(0,1,0)(0,0,0)[0] intercept   : AIC=10025.961, Time=0.11 sec\n",
            " ARIMA(1,1,0)(0,0,0)[0] intercept   : AIC=10026.229, Time=0.19 sec\n",
            " ARIMA(0,1,1)(0,0,0)[0] intercept   : AIC=10026.265, Time=0.39 sec\n",
            " ARIMA(0,1,0)(0,0,0)[0]             : AIC=10024.268, Time=0.10 sec\n",
            " ARIMA(1,1,1)(0,0,0)[0] intercept   : AIC=10025.646, Time=3.23 sec\n",
            "\n",
            "Best model:  ARIMA(0,1,0)(0,0,0)[0]          \n",
            "Total fit time: 9.498 seconds\n",
            "Iteration 19 - Root Mean Squared Error: 1.4899999999999949\n",
            "ARIMA RMSE 2.214084460900262\n",
            "CPU times: user 2min 10s, sys: 1min 34s, total: 3min 44s\n",
            "Wall time: 2min 29s\n"
          ]
        }
      ]
    },
    {
      "cell_type": "code",
      "source": [
        "%%time\n",
        "# Wall time: 0.04s\n",
        "from scipy.linalg import LinAlgError\n",
        "from sklearn.metrics import mean_squared_error\n",
        "\n",
        "np.random.seed(0)\n",
        "\n",
        "def Alg_1_exp1(df_spx, n, lambda_gg=-1, gamma_gg=-1, Nmod=30, Nhyp=11): # n = [1, 12]\n",
        "    df = df_spx.copy()\n",
        "\n",
        "    predicti, gamma_list, lambda_list = [], [], []\n",
        "\n",
        "    # Step 1\n",
        "    gamma = [0.01 + np.random.uniform(0.5 ** (1/n), 1) for i in range(Nmod)]\n",
        "    lambda_i = [0] + [np.random.uniform(0, 1) for i in range(Nmod)]\n",
        "    # print(f\"Lambda = {lambda_i}\")\n",
        "    eta = [0.89 + 0.01 * j for j in range(Nhyp)] # ню\n",
        "    # Step 2\n",
        "    CSE = np.zeros(Nhyp)\n",
        "    CSE_i = np.zeros((Nmod, Nhyp))\n",
        "    # Step 3\n",
        "    g = [np.zeros(n) for _ in range(Nmod)]\n",
        "    H_inv = [np.zeros((n, n)) for _ in range(Nmod)]\n",
        "    H = [np.zeros((n, n)) for _ in range(Nmod)]\n",
        "\n",
        "    x_t = np.zeros(n)\n",
        "    y_pred = np.zeros(Nmod)\n",
        "\n",
        "    def prepare_feature_vector(df, t, x_t):\n",
        "        previous_date = df.index[t - 1]\n",
        "        x_t = np.delete(x_t, 0)\n",
        "        x_t = np.append(x_t, df.Close.loc[previous_date])\n",
        "        return np.array(x_t)\n",
        "\n",
        "    def observe_target(df, t):\n",
        "        current_date = df.index[t]\n",
        "        return df.loc[current_date, 'Close']\n",
        "\n",
        "    def Update(H, x_flat, gamma):\n",
        "        x = np.expand_dims(x_flat, 1)\n",
        "        H_next_inv = gamma**-1 * H - ((gamma**-2 * H @ x @ x.transpose() @ H) /\n",
        "                                      (1 + gamma**-1 * x.transpose() @ H @ x))\n",
        "        return H_next_inv\n",
        "\n",
        "    for t in range(1, len(df)):\n",
        "        ## Step 5\n",
        "        x_t = prepare_feature_vector(df, t, x_t)\n",
        "\n",
        "        ## Step 6 - find optimal CSE forgetting rate (eta)\n",
        "        j_star = np.argmin(CSE)\n",
        "        ## Step 7 - find the optimal model using the optimal CSE\n",
        "        i_star = np.argmin(CSE_i[:, j_star])\n",
        "\n",
        "        ## Step 8 - make prediction using optimal model\n",
        "        y_pred[i_star] = x_t.T.dot(H_inv[i_star]).dot(g[i_star]) # r_t+1 - r_t = predict\n",
        "        ## Step 9 - observe the real target\n",
        "        y_t = observe_target(df, t)\n",
        "        predicti.append(y_pred[i_star])\n",
        "        # Step 10 - for each parameter value\n",
        "        for j in range(Nhyp):\n",
        "            # Step 11 - find the optimal model given the parameter\n",
        "            i_star_j = np.argmin(CSE_i[:, j])\n",
        "            #Step 12 - make prediction with the optimal model given the parameter\n",
        "            CSE[j] += (y_pred[i_star_j] - y_t)**2\n",
        "\n",
        "        for i in range(Nmod):\n",
        "            ### Step 15 - for each model make a prediction\n",
        "            y_pred[i] = x_t.T.dot(H_inv[i]).dot(g[i])\n",
        "\n",
        "            ### Step 16 - for each parameter value\n",
        "            for j in range(Nhyp):\n",
        "                CSE_i[i,j] = eta[j] * CSE_i[i,j] + (y_pred[i] - y_t)**2\n",
        "            if gamma_gg == -1:\n",
        "                g[i] = g[i] * gamma[i] + x_t * (y_t)\n",
        "            else:\n",
        "                g[i] = g[i] * gamma_gg + x_t * (y_t)\n",
        "\n",
        "            ### O(n**3)\n",
        "            if gamma_gg == -1 and lambda_gg == -1:\n",
        "                H[i] = gamma[i] * H[i] + np.outer(x_t, x_t) + lambda_i[i] * np.outer(x_t, x_t)\n",
        "                if np.linalg.det(H[i]) > 0.000001:\n",
        "                    H_inv[i] = np.linalg.inv(H[i])\n",
        "                else:\n",
        "                    H_inv[i] = np.linalg.pinv(H[i])\n",
        "            elif lambda_gg == -1:\n",
        "                H[i] = gamma_gg * H[i] + np.outer(x_t, x_t) + lambda_i[i] * np.outer(x_t, x_t)\n",
        "                if np.linalg.det(H[i]) > 0.000001:\n",
        "                    H_inv[i] = np.linalg.inv(H[i])\n",
        "                else:\n",
        "                    H_inv[i] = np.linalg.pinv(H[i])\n",
        "            elif gamma_gg == -1:\n",
        "                H[i] = gamma[i] * H[i] + np.outer(x_t, x_t) + lambda_gg * np.outer(x_t, x_t)\n",
        "                if np.linalg.det(H[i]) > 0.000001:\n",
        "                    H_inv[i] = np.linalg.inv(H[i])\n",
        "                else:\n",
        "                    H_inv[i] = np.linalg.pinv(H[i])\n",
        "            else:\n",
        "                H[i] = gamma_gg * H[i] + np.outer(x_t, x_t) + lambda_gg * np.outer(x_t, x_t)\n",
        "                if np.linalg.det(H[i]) > 0.000001:\n",
        "                    H_inv[i] = np.linalg.inv(H[i])\n",
        "                else:\n",
        "                    H_inv[i] = np.linalg.pinv(H[i])\n",
        "        if gamma_gg == -1:\n",
        "            gamma_list.append(gamma[np.argmin(CSE)])\n",
        "        else:\n",
        "            gamma_list.append(gamma_gg)\n",
        "        if lambda_gg == -1:\n",
        "            lambda_list.append(lambda_i[np.argmin(CSE)])\n",
        "        else:\n",
        "            lambda_list.append(lambda_gg)\n",
        "    df['gamma'] = [0] + gamma_list\n",
        "    df['lambda'] = [0] + lambda_list\n",
        "    df['pred_alg1'] = [0] + predicti\n",
        "    return df\n",
        "\n",
        "\n",
        "data_to_predict = pd.DataFrame()\n",
        "data_to_predict['Close'] = df_oil['Price'][-n_iter - 2:]\n",
        "\n",
        "df = Alg_1_exp1(data_to_predict, 1)\n",
        "# df.gamma.unique"
      ],
      "metadata": {
        "colab": {
          "base_uri": "https://localhost:8080/"
        },
        "id": "xSAZfC1SojdX",
        "outputId": "79d95314-70b2-494a-d9ea-472782db0711"
      },
      "execution_count": null,
      "outputs": [
        {
          "output_type": "stream",
          "name": "stdout",
          "text": [
            "CPU times: user 44.5 ms, sys: 22.6 ms, total: 67.2 ms\n",
            "Wall time: 40.7 ms\n"
          ]
        }
      ]
    },
    {
      "cell_type": "code",
      "source": [
        "pred_Alg1 = df['pred_alg1'][-n_iter:]\n",
        "ALG1_RMSE = np.sqrt(mean_squared_error(pred_Alg1, df_oil['Price'][-n_iter:]))\n",
        "ALG1_RMSE"
      ],
      "metadata": {
        "colab": {
          "base_uri": "https://localhost:8080/"
        },
        "id": "HVaCDFN40k_9",
        "outputId": "046fb5c9-93ab-4f17-af8a-85550787053f"
      },
      "execution_count": null,
      "outputs": [
        {
          "output_type": "execute_result",
          "data": {
            "text/plain": [
              "2.578305439731789"
            ]
          },
          "metadata": {},
          "execution_count": 8
        }
      ]
    },
    {
      "cell_type": "code",
      "source": [
        "df_oil['Price'][-n_iter:]"
      ],
      "metadata": {
        "colab": {
          "base_uri": "https://localhost:8080/"
        },
        "id": "pnxqwyFhsKyD",
        "outputId": "3817f285-af3b-4e67-f0fd-15b9657c42ed"
      },
      "execution_count": null,
      "outputs": [
        {
          "output_type": "execute_result",
          "data": {
            "text/plain": [
              "2782    57.93\n",
              "2783    60.68\n",
              "2784    62.70\n",
              "2785    61.28\n",
              "2786    63.99\n",
              "2787    64.67\n",
              "2788    63.02\n",
              "2789    60.76\n",
              "2790    61.25\n",
              "2791    68.42\n",
              "2792    65.59\n",
              "2793    64.29\n",
              "2794    64.25\n",
              "2795    65.23\n",
              "2796    64.66\n",
              "2797    64.13\n",
              "2798    62.41\n",
              "2799    62.08\n",
              "2800    62.48\n",
              "2801    60.99\n",
              "Name: Price, dtype: float64"
            ]
          },
          "metadata": {},
          "execution_count": 9
        }
      ]
    },
    {
      "cell_type": "code",
      "source": [
        "%%time\n",
        "# Wall time: 1min 10s\n",
        "from prophet import Prophet\n",
        "import pandas as pd\n",
        "import numpy as np\n",
        "from sklearn.metrics import mean_squared_error\n",
        "\n",
        "# Convert the 'Date' column to datetime\n",
        "df_oil = pd.read_csv('/content/BrentOilPrices.csv')\n",
        "df_oil['Date'] = pd.to_datetime(df_oil['Date'])\n",
        "df_oil['ds'], df_oil['y'] = df_oil['Date'], df_oil['Price']\n",
        "df_oil.set_index('Date', inplace=True)\n",
        "df_oil = df_oil['2008-09' : '2019-09']\n",
        "df_oil.reset_index(drop=True, inplace=True)\n",
        "\n",
        "\n",
        "\n",
        "# n_iter = 3\n",
        "all_rmse = []\n",
        "forecasts = []\n",
        "\n",
        "# Splitting the data into training and testing sets\n",
        "train = df_oil.iloc[:-n_iter]\n",
        "test = df_oil.iloc[-n_iter:]\n",
        "\n",
        "# Initialize a Prophet model\n",
        "\n",
        "for i in range(n_iter):\n",
        "    # Fit the model on the training data\n",
        "    m = Prophet(daily_seasonality=True)  # You can customize seasonality as needed\n",
        "    m.fit(train)\n",
        "\n",
        "    # Create a future DataFrame with a single row for the next day\n",
        "    future = m.make_future_dataframe(periods=1)\n",
        "\n",
        "    # Forecast the next day\n",
        "    forecast = m.predict(future)\n",
        "\n",
        "    # Extract the predicted value for the next day\n",
        "    predicted_value = forecast.loc[len(train)]['yhat']\n",
        "    forecasts.append(predicted_value)\n",
        "\n",
        "    # Calculate RMSE for the predicted value and the actual value\n",
        "    rmse = np.sqrt(mean_squared_error([test.iloc[i]['Price']], [predicted_value]))\n",
        "    all_rmse.append(rmse)\n",
        "\n",
        "    # Update the training data with the actual value\n",
        "    train = train.append(test.iloc[[i]])\n",
        "\n",
        "    print(f\"Iteration {i + 1} - Root Mean Squared Error: {rmse}\")\n",
        "\n",
        "# Calculate the mean RMSE over all iterations\n",
        "# mean_rmse = np.mean(all_rmse)\n",
        "# print(f\"Mean Root Mean Squared Error: {mean_rmse}\")\n",
        "\n",
        "print(\"Prophet RMSE\", np.sqrt(mean_squared_error(tests, forecasts)))\n",
        "PROPHET_RMSE = np.sqrt(mean_squared_error(tests, forecasts))"
      ],
      "metadata": {
        "id": "DLNZYwW5_Lr_",
        "colab": {
          "base_uri": "https://localhost:8080/"
        },
        "outputId": "5820c0c9-10ed-4683-c455-e0d2b44fc04e"
      },
      "execution_count": null,
      "outputs": [
        {
          "output_type": "stream",
          "name": "stderr",
          "text": [
            "DEBUG:cmdstanpy:input tempfile: /tmp/tmpwbtmz3s9/xhwskyh7.json\n",
            "DEBUG:cmdstanpy:input tempfile: /tmp/tmpwbtmz3s9/oikbdpqb.json\n",
            "DEBUG:cmdstanpy:idx 0\n",
            "DEBUG:cmdstanpy:running CmdStan, num_threads: None\n",
            "DEBUG:cmdstanpy:CmdStan args: ['/usr/local/lib/python3.10/dist-packages/prophet/stan_model/prophet_model.bin', 'random', 'seed=99636', 'data', 'file=/tmp/tmpwbtmz3s9/xhwskyh7.json', 'init=/tmp/tmpwbtmz3s9/oikbdpqb.json', 'output', 'file=/tmp/tmpwbtmz3s9/prophet_modelavpgwrkl/prophet_model-20231020211002.csv', 'method=optimize', 'algorithm=lbfgs', 'iter=10000']\n",
            "21:10:02 - cmdstanpy - INFO - Chain [1] start processing\n",
            "INFO:cmdstanpy:Chain [1] start processing\n",
            "21:10:05 - cmdstanpy - INFO - Chain [1] done processing\n",
            "INFO:cmdstanpy:Chain [1] done processing\n",
            "<timed exec>:46: FutureWarning: The frame.append method is deprecated and will be removed from pandas in a future version. Use pandas.concat instead.\n",
            "DEBUG:cmdstanpy:input tempfile: /tmp/tmpwbtmz3s9/tkj62ea5.json\n"
          ]
        },
        {
          "output_type": "stream",
          "name": "stdout",
          "text": [
            "Iteration 1 - Root Mean Squared Error: 17.157325916636573\n"
          ]
        },
        {
          "output_type": "stream",
          "name": "stderr",
          "text": [
            "DEBUG:cmdstanpy:input tempfile: /tmp/tmpwbtmz3s9/efui0g9_.json\n",
            "DEBUG:cmdstanpy:idx 0\n",
            "DEBUG:cmdstanpy:running CmdStan, num_threads: None\n",
            "DEBUG:cmdstanpy:CmdStan args: ['/usr/local/lib/python3.10/dist-packages/prophet/stan_model/prophet_model.bin', 'random', 'seed=24715', 'data', 'file=/tmp/tmpwbtmz3s9/tkj62ea5.json', 'init=/tmp/tmpwbtmz3s9/efui0g9_.json', 'output', 'file=/tmp/tmpwbtmz3s9/prophet_model24m_u8pd/prophet_model-20231020211006.csv', 'method=optimize', 'algorithm=lbfgs', 'iter=10000']\n",
            "21:10:06 - cmdstanpy - INFO - Chain [1] start processing\n",
            "INFO:cmdstanpy:Chain [1] start processing\n",
            "21:10:08 - cmdstanpy - INFO - Chain [1] done processing\n",
            "INFO:cmdstanpy:Chain [1] done processing\n",
            "<timed exec>:46: FutureWarning: The frame.append method is deprecated and will be removed from pandas in a future version. Use pandas.concat instead.\n",
            "DEBUG:cmdstanpy:input tempfile: /tmp/tmpwbtmz3s9/gwauv6my.json\n"
          ]
        },
        {
          "output_type": "stream",
          "name": "stdout",
          "text": [
            "Iteration 2 - Root Mean Squared Error: 14.645582532533005\n"
          ]
        },
        {
          "output_type": "stream",
          "name": "stderr",
          "text": [
            "DEBUG:cmdstanpy:input tempfile: /tmp/tmpwbtmz3s9/6rex03sw.json\n",
            "DEBUG:cmdstanpy:idx 0\n",
            "DEBUG:cmdstanpy:running CmdStan, num_threads: None\n",
            "DEBUG:cmdstanpy:CmdStan args: ['/usr/local/lib/python3.10/dist-packages/prophet/stan_model/prophet_model.bin', 'random', 'seed=14109', 'data', 'file=/tmp/tmpwbtmz3s9/gwauv6my.json', 'init=/tmp/tmpwbtmz3s9/6rex03sw.json', 'output', 'file=/tmp/tmpwbtmz3s9/prophet_modelgvynphtz/prophet_model-20231020211009.csv', 'method=optimize', 'algorithm=lbfgs', 'iter=10000']\n",
            "21:10:09 - cmdstanpy - INFO - Chain [1] start processing\n",
            "INFO:cmdstanpy:Chain [1] start processing\n",
            "21:10:12 - cmdstanpy - INFO - Chain [1] done processing\n",
            "INFO:cmdstanpy:Chain [1] done processing\n",
            "<timed exec>:46: FutureWarning: The frame.append method is deprecated and will be removed from pandas in a future version. Use pandas.concat instead.\n",
            "DEBUG:cmdstanpy:input tempfile: /tmp/tmpwbtmz3s9/j507a381.json\n"
          ]
        },
        {
          "output_type": "stream",
          "name": "stdout",
          "text": [
            "Iteration 3 - Root Mean Squared Error: 12.318317780708213\n"
          ]
        },
        {
          "output_type": "stream",
          "name": "stderr",
          "text": [
            "DEBUG:cmdstanpy:input tempfile: /tmp/tmpwbtmz3s9/klhwlsp2.json\n",
            "DEBUG:cmdstanpy:idx 0\n",
            "DEBUG:cmdstanpy:running CmdStan, num_threads: None\n",
            "DEBUG:cmdstanpy:CmdStan args: ['/usr/local/lib/python3.10/dist-packages/prophet/stan_model/prophet_model.bin', 'random', 'seed=39462', 'data', 'file=/tmp/tmpwbtmz3s9/j507a381.json', 'init=/tmp/tmpwbtmz3s9/klhwlsp2.json', 'output', 'file=/tmp/tmpwbtmz3s9/prophet_model7zllvrlf/prophet_model-20231020211013.csv', 'method=optimize', 'algorithm=lbfgs', 'iter=10000']\n",
            "21:10:13 - cmdstanpy - INFO - Chain [1] start processing\n",
            "INFO:cmdstanpy:Chain [1] start processing\n",
            "21:10:16 - cmdstanpy - INFO - Chain [1] done processing\n",
            "INFO:cmdstanpy:Chain [1] done processing\n",
            "<timed exec>:46: FutureWarning: The frame.append method is deprecated and will be removed from pandas in a future version. Use pandas.concat instead.\n",
            "DEBUG:cmdstanpy:input tempfile: /tmp/tmpwbtmz3s9/x14rt_q3.json\n"
          ]
        },
        {
          "output_type": "stream",
          "name": "stdout",
          "text": [
            "Iteration 4 - Root Mean Squared Error: 13.658962900805278\n"
          ]
        },
        {
          "output_type": "stream",
          "name": "stderr",
          "text": [
            "DEBUG:cmdstanpy:input tempfile: /tmp/tmpwbtmz3s9/t1uqd4pf.json\n",
            "DEBUG:cmdstanpy:idx 0\n",
            "DEBUG:cmdstanpy:running CmdStan, num_threads: None\n",
            "DEBUG:cmdstanpy:CmdStan args: ['/usr/local/lib/python3.10/dist-packages/prophet/stan_model/prophet_model.bin', 'random', 'seed=23951', 'data', 'file=/tmp/tmpwbtmz3s9/x14rt_q3.json', 'init=/tmp/tmpwbtmz3s9/t1uqd4pf.json', 'output', 'file=/tmp/tmpwbtmz3s9/prophet_modeldqjjv0tr/prophet_model-20231020211017.csv', 'method=optimize', 'algorithm=lbfgs', 'iter=10000']\n",
            "21:10:17 - cmdstanpy - INFO - Chain [1] start processing\n",
            "INFO:cmdstanpy:Chain [1] start processing\n",
            "21:10:20 - cmdstanpy - INFO - Chain [1] done processing\n",
            "INFO:cmdstanpy:Chain [1] done processing\n",
            "<timed exec>:46: FutureWarning: The frame.append method is deprecated and will be removed from pandas in a future version. Use pandas.concat instead.\n",
            "DEBUG:cmdstanpy:input tempfile: /tmp/tmpwbtmz3s9/4rc5f78t.json\n"
          ]
        },
        {
          "output_type": "stream",
          "name": "stdout",
          "text": [
            "Iteration 5 - Root Mean Squared Error: 13.99828849061064\n"
          ]
        },
        {
          "output_type": "stream",
          "name": "stderr",
          "text": [
            "DEBUG:cmdstanpy:input tempfile: /tmp/tmpwbtmz3s9/z0h1tt84.json\n",
            "DEBUG:cmdstanpy:idx 0\n",
            "DEBUG:cmdstanpy:running CmdStan, num_threads: None\n",
            "DEBUG:cmdstanpy:CmdStan args: ['/usr/local/lib/python3.10/dist-packages/prophet/stan_model/prophet_model.bin', 'random', 'seed=82549', 'data', 'file=/tmp/tmpwbtmz3s9/4rc5f78t.json', 'init=/tmp/tmpwbtmz3s9/z0h1tt84.json', 'output', 'file=/tmp/tmpwbtmz3s9/prophet_modelef2sxaur/prophet_model-20231020211021.csv', 'method=optimize', 'algorithm=lbfgs', 'iter=10000']\n",
            "21:10:21 - cmdstanpy - INFO - Chain [1] start processing\n",
            "INFO:cmdstanpy:Chain [1] start processing\n",
            "21:10:23 - cmdstanpy - INFO - Chain [1] done processing\n",
            "INFO:cmdstanpy:Chain [1] done processing\n",
            "<timed exec>:46: FutureWarning: The frame.append method is deprecated and will be removed from pandas in a future version. Use pandas.concat instead.\n",
            "DEBUG:cmdstanpy:input tempfile: /tmp/tmpwbtmz3s9/bse3qkiv.json\n"
          ]
        },
        {
          "output_type": "stream",
          "name": "stdout",
          "text": [
            "Iteration 6 - Root Mean Squared Error: 10.679429718109915\n"
          ]
        },
        {
          "output_type": "stream",
          "name": "stderr",
          "text": [
            "DEBUG:cmdstanpy:input tempfile: /tmp/tmpwbtmz3s9/2ie8v7kk.json\n",
            "DEBUG:cmdstanpy:idx 0\n",
            "DEBUG:cmdstanpy:running CmdStan, num_threads: None\n",
            "DEBUG:cmdstanpy:CmdStan args: ['/usr/local/lib/python3.10/dist-packages/prophet/stan_model/prophet_model.bin', 'random', 'seed=47367', 'data', 'file=/tmp/tmpwbtmz3s9/bse3qkiv.json', 'init=/tmp/tmpwbtmz3s9/2ie8v7kk.json', 'output', 'file=/tmp/tmpwbtmz3s9/prophet_modelddemeg8o/prophet_model-20231020211024.csv', 'method=optimize', 'algorithm=lbfgs', 'iter=10000']\n",
            "21:10:24 - cmdstanpy - INFO - Chain [1] start processing\n",
            "INFO:cmdstanpy:Chain [1] start processing\n",
            "21:10:28 - cmdstanpy - INFO - Chain [1] done processing\n",
            "INFO:cmdstanpy:Chain [1] done processing\n",
            "<timed exec>:46: FutureWarning: The frame.append method is deprecated and will be removed from pandas in a future version. Use pandas.concat instead.\n",
            "DEBUG:cmdstanpy:input tempfile: /tmp/tmpwbtmz3s9/owhty01_.json\n"
          ]
        },
        {
          "output_type": "stream",
          "name": "stdout",
          "text": [
            "Iteration 7 - Root Mean Squared Error: 12.71569530058246\n"
          ]
        },
        {
          "output_type": "stream",
          "name": "stderr",
          "text": [
            "DEBUG:cmdstanpy:input tempfile: /tmp/tmpwbtmz3s9/iscbqogc.json\n",
            "DEBUG:cmdstanpy:idx 0\n",
            "DEBUG:cmdstanpy:running CmdStan, num_threads: None\n",
            "DEBUG:cmdstanpy:CmdStan args: ['/usr/local/lib/python3.10/dist-packages/prophet/stan_model/prophet_model.bin', 'random', 'seed=2964', 'data', 'file=/tmp/tmpwbtmz3s9/owhty01_.json', 'init=/tmp/tmpwbtmz3s9/iscbqogc.json', 'output', 'file=/tmp/tmpwbtmz3s9/prophet_modelnza1p4ue/prophet_model-20231020211028.csv', 'method=optimize', 'algorithm=lbfgs', 'iter=10000']\n",
            "21:10:28 - cmdstanpy - INFO - Chain [1] start processing\n",
            "INFO:cmdstanpy:Chain [1] start processing\n",
            "21:10:31 - cmdstanpy - INFO - Chain [1] done processing\n",
            "INFO:cmdstanpy:Chain [1] done processing\n",
            "<timed exec>:46: FutureWarning: The frame.append method is deprecated and will be removed from pandas in a future version. Use pandas.concat instead.\n",
            "DEBUG:cmdstanpy:input tempfile: /tmp/tmpwbtmz3s9/o505woeh.json\n"
          ]
        },
        {
          "output_type": "stream",
          "name": "stdout",
          "text": [
            "Iteration 8 - Root Mean Squared Error: 14.411164627884894\n"
          ]
        },
        {
          "output_type": "stream",
          "name": "stderr",
          "text": [
            "DEBUG:cmdstanpy:input tempfile: /tmp/tmpwbtmz3s9/mx5vy02q.json\n",
            "DEBUG:cmdstanpy:idx 0\n",
            "DEBUG:cmdstanpy:running CmdStan, num_threads: None\n",
            "DEBUG:cmdstanpy:CmdStan args: ['/usr/local/lib/python3.10/dist-packages/prophet/stan_model/prophet_model.bin', 'random', 'seed=10506', 'data', 'file=/tmp/tmpwbtmz3s9/o505woeh.json', 'init=/tmp/tmpwbtmz3s9/mx5vy02q.json', 'output', 'file=/tmp/tmpwbtmz3s9/prophet_modelcuoia4gs/prophet_model-20231020211032.csv', 'method=optimize', 'algorithm=lbfgs', 'iter=10000']\n",
            "21:10:32 - cmdstanpy - INFO - Chain [1] start processing\n",
            "INFO:cmdstanpy:Chain [1] start processing\n",
            "21:10:33 - cmdstanpy - INFO - Chain [1] done processing\n",
            "INFO:cmdstanpy:Chain [1] done processing\n",
            "<timed exec>:46: FutureWarning: The frame.append method is deprecated and will be removed from pandas in a future version. Use pandas.concat instead.\n",
            "DEBUG:cmdstanpy:input tempfile: /tmp/tmpwbtmz3s9/r01zxlhv.json\n"
          ]
        },
        {
          "output_type": "stream",
          "name": "stdout",
          "text": [
            "Iteration 9 - Root Mean Squared Error: 13.652718357657108\n"
          ]
        },
        {
          "output_type": "stream",
          "name": "stderr",
          "text": [
            "DEBUG:cmdstanpy:input tempfile: /tmp/tmpwbtmz3s9/04bej8ft.json\n",
            "DEBUG:cmdstanpy:idx 0\n",
            "DEBUG:cmdstanpy:running CmdStan, num_threads: None\n",
            "DEBUG:cmdstanpy:CmdStan args: ['/usr/local/lib/python3.10/dist-packages/prophet/stan_model/prophet_model.bin', 'random', 'seed=29116', 'data', 'file=/tmp/tmpwbtmz3s9/r01zxlhv.json', 'init=/tmp/tmpwbtmz3s9/04bej8ft.json', 'output', 'file=/tmp/tmpwbtmz3s9/prophet_modelnhrol5nb/prophet_model-20231020211034.csv', 'method=optimize', 'algorithm=lbfgs', 'iter=10000']\n",
            "21:10:34 - cmdstanpy - INFO - Chain [1] start processing\n",
            "INFO:cmdstanpy:Chain [1] start processing\n",
            "21:10:37 - cmdstanpy - INFO - Chain [1] done processing\n",
            "INFO:cmdstanpy:Chain [1] done processing\n",
            "<timed exec>:46: FutureWarning: The frame.append method is deprecated and will be removed from pandas in a future version. Use pandas.concat instead.\n",
            "DEBUG:cmdstanpy:input tempfile: /tmp/tmpwbtmz3s9/x7co0chb.json\n"
          ]
        },
        {
          "output_type": "stream",
          "name": "stdout",
          "text": [
            "Iteration 10 - Root Mean Squared Error: 9.549668780244005\n"
          ]
        },
        {
          "output_type": "stream",
          "name": "stderr",
          "text": [
            "DEBUG:cmdstanpy:input tempfile: /tmp/tmpwbtmz3s9/krvtycbo.json\n",
            "DEBUG:cmdstanpy:idx 0\n",
            "DEBUG:cmdstanpy:running CmdStan, num_threads: None\n",
            "DEBUG:cmdstanpy:CmdStan args: ['/usr/local/lib/python3.10/dist-packages/prophet/stan_model/prophet_model.bin', 'random', 'seed=94077', 'data', 'file=/tmp/tmpwbtmz3s9/x7co0chb.json', 'init=/tmp/tmpwbtmz3s9/krvtycbo.json', 'output', 'file=/tmp/tmpwbtmz3s9/prophet_modelx7qmtwrj/prophet_model-20231020211038.csv', 'method=optimize', 'algorithm=lbfgs', 'iter=10000']\n",
            "21:10:38 - cmdstanpy - INFO - Chain [1] start processing\n",
            "INFO:cmdstanpy:Chain [1] start processing\n",
            "21:10:41 - cmdstanpy - INFO - Chain [1] done processing\n",
            "INFO:cmdstanpy:Chain [1] done processing\n",
            "<timed exec>:46: FutureWarning: The frame.append method is deprecated and will be removed from pandas in a future version. Use pandas.concat instead.\n",
            "DEBUG:cmdstanpy:input tempfile: /tmp/tmpwbtmz3s9/zd2txi4_.json\n"
          ]
        },
        {
          "output_type": "stream",
          "name": "stdout",
          "text": [
            "Iteration 11 - Root Mean Squared Error: 9.609994798203886\n"
          ]
        },
        {
          "output_type": "stream",
          "name": "stderr",
          "text": [
            "DEBUG:cmdstanpy:input tempfile: /tmp/tmpwbtmz3s9/l2tw7rks.json\n",
            "DEBUG:cmdstanpy:idx 0\n",
            "DEBUG:cmdstanpy:running CmdStan, num_threads: None\n",
            "DEBUG:cmdstanpy:CmdStan args: ['/usr/local/lib/python3.10/dist-packages/prophet/stan_model/prophet_model.bin', 'random', 'seed=86800', 'data', 'file=/tmp/tmpwbtmz3s9/zd2txi4_.json', 'init=/tmp/tmpwbtmz3s9/l2tw7rks.json', 'output', 'file=/tmp/tmpwbtmz3s9/prophet_model4ts3es6p/prophet_model-20231020211042.csv', 'method=optimize', 'algorithm=lbfgs', 'iter=10000']\n",
            "21:10:42 - cmdstanpy - INFO - Chain [1] start processing\n",
            "INFO:cmdstanpy:Chain [1] start processing\n",
            "21:10:45 - cmdstanpy - INFO - Chain [1] done processing\n",
            "INFO:cmdstanpy:Chain [1] done processing\n",
            "<timed exec>:46: FutureWarning: The frame.append method is deprecated and will be removed from pandas in a future version. Use pandas.concat instead.\n",
            "DEBUG:cmdstanpy:input tempfile: /tmp/tmpwbtmz3s9/jh75hcp4.json\n"
          ]
        },
        {
          "output_type": "stream",
          "name": "stdout",
          "text": [
            "Iteration 12 - Root Mean Squared Error: 10.441942761086153\n"
          ]
        },
        {
          "output_type": "stream",
          "name": "stderr",
          "text": [
            "DEBUG:cmdstanpy:input tempfile: /tmp/tmpwbtmz3s9/4e4484jj.json\n",
            "DEBUG:cmdstanpy:idx 0\n",
            "DEBUG:cmdstanpy:running CmdStan, num_threads: None\n",
            "DEBUG:cmdstanpy:CmdStan args: ['/usr/local/lib/python3.10/dist-packages/prophet/stan_model/prophet_model.bin', 'random', 'seed=67547', 'data', 'file=/tmp/tmpwbtmz3s9/jh75hcp4.json', 'init=/tmp/tmpwbtmz3s9/4e4484jj.json', 'output', 'file=/tmp/tmpwbtmz3s9/prophet_modelzkusstaj/prophet_model-20231020211046.csv', 'method=optimize', 'algorithm=lbfgs', 'iter=10000']\n",
            "21:10:46 - cmdstanpy - INFO - Chain [1] start processing\n",
            "INFO:cmdstanpy:Chain [1] start processing\n",
            "21:10:48 - cmdstanpy - INFO - Chain [1] done processing\n",
            "INFO:cmdstanpy:Chain [1] done processing\n",
            "<timed exec>:46: FutureWarning: The frame.append method is deprecated and will be removed from pandas in a future version. Use pandas.concat instead.\n",
            "DEBUG:cmdstanpy:input tempfile: /tmp/tmpwbtmz3s9/pbrfzj2q.json\n"
          ]
        },
        {
          "output_type": "stream",
          "name": "stdout",
          "text": [
            "Iteration 13 - Root Mean Squared Error: 10.740835089162644\n"
          ]
        },
        {
          "output_type": "stream",
          "name": "stderr",
          "text": [
            "DEBUG:cmdstanpy:input tempfile: /tmp/tmpwbtmz3s9/qmk0ioly.json\n",
            "DEBUG:cmdstanpy:idx 0\n",
            "DEBUG:cmdstanpy:running CmdStan, num_threads: None\n",
            "DEBUG:cmdstanpy:CmdStan args: ['/usr/local/lib/python3.10/dist-packages/prophet/stan_model/prophet_model.bin', 'random', 'seed=81898', 'data', 'file=/tmp/tmpwbtmz3s9/pbrfzj2q.json', 'init=/tmp/tmpwbtmz3s9/qmk0ioly.json', 'output', 'file=/tmp/tmpwbtmz3s9/prophet_model0e8g0gb1/prophet_model-20231020211049.csv', 'method=optimize', 'algorithm=lbfgs', 'iter=10000']\n",
            "21:10:49 - cmdstanpy - INFO - Chain [1] start processing\n",
            "INFO:cmdstanpy:Chain [1] start processing\n",
            "21:10:52 - cmdstanpy - INFO - Chain [1] done processing\n",
            "INFO:cmdstanpy:Chain [1] done processing\n",
            "<timed exec>:46: FutureWarning: The frame.append method is deprecated and will be removed from pandas in a future version. Use pandas.concat instead.\n",
            "DEBUG:cmdstanpy:input tempfile: /tmp/tmpwbtmz3s9/ab8zvjr9.json\n"
          ]
        },
        {
          "output_type": "stream",
          "name": "stdout",
          "text": [
            "Iteration 14 - Root Mean Squared Error: 9.531534788536376\n"
          ]
        },
        {
          "output_type": "stream",
          "name": "stderr",
          "text": [
            "DEBUG:cmdstanpy:input tempfile: /tmp/tmpwbtmz3s9/yfhnvrcb.json\n",
            "DEBUG:cmdstanpy:idx 0\n",
            "DEBUG:cmdstanpy:running CmdStan, num_threads: None\n",
            "DEBUG:cmdstanpy:CmdStan args: ['/usr/local/lib/python3.10/dist-packages/prophet/stan_model/prophet_model.bin', 'random', 'seed=21578', 'data', 'file=/tmp/tmpwbtmz3s9/ab8zvjr9.json', 'init=/tmp/tmpwbtmz3s9/yfhnvrcb.json', 'output', 'file=/tmp/tmpwbtmz3s9/prophet_modelgaqzwd2z/prophet_model-20231020211053.csv', 'method=optimize', 'algorithm=lbfgs', 'iter=10000']\n",
            "21:10:53 - cmdstanpy - INFO - Chain [1] start processing\n",
            "INFO:cmdstanpy:Chain [1] start processing\n",
            "21:10:55 - cmdstanpy - INFO - Chain [1] done processing\n",
            "INFO:cmdstanpy:Chain [1] done processing\n",
            "<timed exec>:46: FutureWarning: The frame.append method is deprecated and will be removed from pandas in a future version. Use pandas.concat instead.\n"
          ]
        },
        {
          "output_type": "stream",
          "name": "stdout",
          "text": [
            "Iteration 15 - Root Mean Squared Error: 13.82833718433406\n"
          ]
        },
        {
          "output_type": "stream",
          "name": "stderr",
          "text": [
            "DEBUG:cmdstanpy:input tempfile: /tmp/tmpwbtmz3s9/_zib0ubm.json\n",
            "DEBUG:cmdstanpy:input tempfile: /tmp/tmpwbtmz3s9/wqbrvder.json\n",
            "DEBUG:cmdstanpy:idx 0\n",
            "DEBUG:cmdstanpy:running CmdStan, num_threads: None\n",
            "DEBUG:cmdstanpy:CmdStan args: ['/usr/local/lib/python3.10/dist-packages/prophet/stan_model/prophet_model.bin', 'random', 'seed=78039', 'data', 'file=/tmp/tmpwbtmz3s9/_zib0ubm.json', 'init=/tmp/tmpwbtmz3s9/wqbrvder.json', 'output', 'file=/tmp/tmpwbtmz3s9/prophet_modeljtgnvq9i/prophet_model-20231020211056.csv', 'method=optimize', 'algorithm=lbfgs', 'iter=10000']\n",
            "21:10:56 - cmdstanpy - INFO - Chain [1] start processing\n",
            "INFO:cmdstanpy:Chain [1] start processing\n",
            "21:10:59 - cmdstanpy - INFO - Chain [1] done processing\n",
            "INFO:cmdstanpy:Chain [1] done processing\n",
            "<timed exec>:46: FutureWarning: The frame.append method is deprecated and will be removed from pandas in a future version. Use pandas.concat instead.\n",
            "DEBUG:cmdstanpy:input tempfile: /tmp/tmpwbtmz3s9/8p64877i.json\n"
          ]
        },
        {
          "output_type": "stream",
          "name": "stdout",
          "text": [
            "Iteration 16 - Root Mean Squared Error: 10.013336817907174\n"
          ]
        },
        {
          "output_type": "stream",
          "name": "stderr",
          "text": [
            "DEBUG:cmdstanpy:input tempfile: /tmp/tmpwbtmz3s9/nwnud821.json\n",
            "DEBUG:cmdstanpy:idx 0\n",
            "DEBUG:cmdstanpy:running CmdStan, num_threads: None\n",
            "DEBUG:cmdstanpy:CmdStan args: ['/usr/local/lib/python3.10/dist-packages/prophet/stan_model/prophet_model.bin', 'random', 'seed=61472', 'data', 'file=/tmp/tmpwbtmz3s9/8p64877i.json', 'init=/tmp/tmpwbtmz3s9/nwnud821.json', 'output', 'file=/tmp/tmpwbtmz3s9/prophet_modelopdc7sii/prophet_model-20231020211100.csv', 'method=optimize', 'algorithm=lbfgs', 'iter=10000']\n",
            "21:11:00 - cmdstanpy - INFO - Chain [1] start processing\n",
            "INFO:cmdstanpy:Chain [1] start processing\n",
            "21:11:02 - cmdstanpy - INFO - Chain [1] done processing\n",
            "INFO:cmdstanpy:Chain [1] done processing\n",
            "<timed exec>:46: FutureWarning: The frame.append method is deprecated and will be removed from pandas in a future version. Use pandas.concat instead.\n",
            "DEBUG:cmdstanpy:input tempfile: /tmp/tmpwbtmz3s9/dw4bgpk5.json\n"
          ]
        },
        {
          "output_type": "stream",
          "name": "stdout",
          "text": [
            "Iteration 17 - Root Mean Squared Error: 11.698392216231326\n"
          ]
        },
        {
          "output_type": "stream",
          "name": "stderr",
          "text": [
            "DEBUG:cmdstanpy:input tempfile: /tmp/tmpwbtmz3s9/7gzy0pbq.json\n",
            "DEBUG:cmdstanpy:idx 0\n",
            "DEBUG:cmdstanpy:running CmdStan, num_threads: None\n",
            "DEBUG:cmdstanpy:CmdStan args: ['/usr/local/lib/python3.10/dist-packages/prophet/stan_model/prophet_model.bin', 'random', 'seed=98635', 'data', 'file=/tmp/tmpwbtmz3s9/dw4bgpk5.json', 'init=/tmp/tmpwbtmz3s9/7gzy0pbq.json', 'output', 'file=/tmp/tmpwbtmz3s9/prophet_modeldbo12oxm/prophet_model-20231020211103.csv', 'method=optimize', 'algorithm=lbfgs', 'iter=10000']\n",
            "21:11:03 - cmdstanpy - INFO - Chain [1] start processing\n",
            "INFO:cmdstanpy:Chain [1] start processing\n",
            "21:11:06 - cmdstanpy - INFO - Chain [1] done processing\n",
            "INFO:cmdstanpy:Chain [1] done processing\n",
            "<timed exec>:46: FutureWarning: The frame.append method is deprecated and will be removed from pandas in a future version. Use pandas.concat instead.\n",
            "DEBUG:cmdstanpy:input tempfile: /tmp/tmpwbtmz3s9/48f9zpdy.json\n"
          ]
        },
        {
          "output_type": "stream",
          "name": "stdout",
          "text": [
            "Iteration 18 - Root Mean Squared Error: 11.951956945643232\n"
          ]
        },
        {
          "output_type": "stream",
          "name": "stderr",
          "text": [
            "DEBUG:cmdstanpy:input tempfile: /tmp/tmpwbtmz3s9/vsaem73n.json\n",
            "DEBUG:cmdstanpy:idx 0\n",
            "DEBUG:cmdstanpy:running CmdStan, num_threads: None\n",
            "DEBUG:cmdstanpy:CmdStan args: ['/usr/local/lib/python3.10/dist-packages/prophet/stan_model/prophet_model.bin', 'random', 'seed=61704', 'data', 'file=/tmp/tmpwbtmz3s9/48f9zpdy.json', 'init=/tmp/tmpwbtmz3s9/vsaem73n.json', 'output', 'file=/tmp/tmpwbtmz3s9/prophet_modelo56frepr/prophet_model-20231020211107.csv', 'method=optimize', 'algorithm=lbfgs', 'iter=10000']\n",
            "21:11:07 - cmdstanpy - INFO - Chain [1] start processing\n",
            "INFO:cmdstanpy:Chain [1] start processing\n",
            "21:11:09 - cmdstanpy - INFO - Chain [1] done processing\n",
            "INFO:cmdstanpy:Chain [1] done processing\n",
            "<timed exec>:46: FutureWarning: The frame.append method is deprecated and will be removed from pandas in a future version. Use pandas.concat instead.\n",
            "DEBUG:cmdstanpy:input tempfile: /tmp/tmpwbtmz3s9/bldgjcui.json\n"
          ]
        },
        {
          "output_type": "stream",
          "name": "stdout",
          "text": [
            "Iteration 19 - Root Mean Squared Error: 11.09828249644925\n"
          ]
        },
        {
          "output_type": "stream",
          "name": "stderr",
          "text": [
            "DEBUG:cmdstanpy:input tempfile: /tmp/tmpwbtmz3s9/6vf4gpxj.json\n",
            "DEBUG:cmdstanpy:idx 0\n",
            "DEBUG:cmdstanpy:running CmdStan, num_threads: None\n",
            "DEBUG:cmdstanpy:CmdStan args: ['/usr/local/lib/python3.10/dist-packages/prophet/stan_model/prophet_model.bin', 'random', 'seed=95030', 'data', 'file=/tmp/tmpwbtmz3s9/bldgjcui.json', 'init=/tmp/tmpwbtmz3s9/6vf4gpxj.json', 'output', 'file=/tmp/tmpwbtmz3s9/prophet_modelt39jms6d/prophet_model-20231020211110.csv', 'method=optimize', 'algorithm=lbfgs', 'iter=10000']\n",
            "21:11:10 - cmdstanpy - INFO - Chain [1] start processing\n",
            "INFO:cmdstanpy:Chain [1] start processing\n",
            "21:11:12 - cmdstanpy - INFO - Chain [1] done processing\n",
            "INFO:cmdstanpy:Chain [1] done processing\n"
          ]
        },
        {
          "output_type": "stream",
          "name": "stdout",
          "text": [
            "Iteration 20 - Root Mean Squared Error: 16.235313863891925\n",
            "Prophet RMSE 12.58906576706028\n",
            "CPU times: user 20.7 s, sys: 4.86 s, total: 25.5 s\n",
            "Wall time: 1min 10s\n"
          ]
        },
        {
          "output_type": "stream",
          "name": "stderr",
          "text": [
            "<timed exec>:46: FutureWarning: The frame.append method is deprecated and will be removed from pandas in a future version. Use pandas.concat instead.\n"
          ]
        }
      ]
    },
    {
      "cell_type": "code",
      "source": [
        "print(\"ARIMA RMSE\", ARIMA_RMSE)\n",
        "print(\"ALG1 RMSE\", ALG1_RMSE)\n",
        "print(\"Prophet RMSE\", PROPHET_RMSE)"
      ],
      "metadata": {
        "colab": {
          "base_uri": "https://localhost:8080/"
        },
        "id": "kp5rqSH6rahD",
        "outputId": "da0fe6ef-e575-48ba-baeb-c281b13135fb"
      },
      "execution_count": null,
      "outputs": [
        {
          "output_type": "stream",
          "name": "stdout",
          "text": [
            "ARIMA RMSE 2.214084460900262\n",
            "ALG1 RMSE 2.578305439731789\n",
            "Prophet RMSE 12.58906576706028\n"
          ]
        }
      ]
    },
    {
      "cell_type": "code",
      "source": [],
      "metadata": {
        "id": "q62omaJq6F_M"
      },
      "execution_count": null,
      "outputs": []
    }
  ]
}